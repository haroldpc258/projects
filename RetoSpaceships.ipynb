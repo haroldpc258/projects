{
  "cells": [
    {
      "cell_type": "code",
      "execution_count": 86,
      "metadata": {
        "id": "SblXsgjdiIwy"
      },
      "outputs": [],
      "source": [
        "#Importing libraries\n",
        "from IPython.display import clear_output #it is used to clear the output on the console"
      ]
    },
    {
      "cell_type": "markdown",
      "source": [
        "#**Definición de las Clases**"
      ],
      "metadata": {
        "id": "Lpc4wk3Lc-cP"
      }
    },
    {
      "cell_type": "code",
      "execution_count": 87,
      "metadata": {
        "id": "mp-sfsCmSxN_"
      },
      "outputs": [],
      "source": [
        "class ShuttleSpaceship: #the ShuttleSpaceship class is defined with its methods and properties\n",
        "    def __init__(self, name, origin, thrust, weight, transportCapacity, height, power):\n",
        "        self.name = name\n",
        "        self.origin = origin\n",
        "        self.thrust = thrust\n",
        "        self.weight = weight\n",
        "        self.transportCapacity = transportCapacity\n",
        "        self.height = height\n",
        "        self.power = power\n",
        "\n",
        "\n",
        "    def exploit(self):\n",
        "      print(f\"{self.name} ha explotado.\")\n",
        "        \n",
        "    def eject(self):\n",
        "      print(f\"{self.name} ha ejectado la carga.\")\n",
        "\n",
        "      \n",
        "class UnmannedSpaceship: #the UnmannedSpaceship class is defined with its methods and properties\n",
        "    def __init__(self, name, origin, thrust, power, speed):\n",
        "      self.name = name\n",
        "      self.origin = origin\n",
        "      self.thrust = thrust\n",
        "      self.power = power\n",
        "      self.speed = speed\n",
        "\n",
        "      def explore(self):\n",
        "          print(f\"{self.name} esta explorando su entorno.\")\n",
        "\n",
        "      def comeBack(self):\n",
        "          print(f\"{self.name} esta regresando a casa.\")\n",
        "\n",
        "class MannedSpaceship:  #the MannedSpaceship class is defined with its methods and properties\n",
        "    def __init__(self, name, origin, weight, orbitDistance, peopleCapacity):\n",
        "      self.name = name\n",
        "      self.origin = origin\n",
        "      self.weight = weight\n",
        "      self.orbitDistance = orbitDistance\n",
        "      self.peopleCapacity = peopleCapacity\n",
        "\n",
        "      def takeoff(self):\n",
        "          print(f\"{self.name} esta despegando.\")\n",
        "\n",
        "      def land(self):\n",
        "          print(f\"{self.name} esta aterrizando.\")\n"
      ]
    },
    {
      "cell_type": "markdown",
      "metadata": {
        "id": "dFcbo1BnhFWH"
      },
      "source": [
        "#**Creación de las Naves**"
      ]
    },
    {
      "cell_type": "markdown",
      "source": [
        "Naves Inciales"
      ],
      "metadata": {
        "id": "z18QRP4sHTQt"
      }
    },
    {
      "cell_type": "code",
      "source": [
        "#The initial nine ships, three of each class, are created\n",
        "Nave1 = ShuttleSpaceship(\"Enterprise\", \"EE. UU.\", 1000, 2000, 3000, 50, 5000)\n",
        "Nave2 = ShuttleSpaceship(\"Columbia\", \"EE. UU.\", 1000, 1900, 2900, 45, 5500)\n",
        "Nave3 = ShuttleSpaceship(\"Challenger\", \"EE. UU.\", 1100, 2100, 3100, 55, 5200)\n",
        "\n",
        "Nave4 = UnmannedSpaceship(\"Sojourner\", \"EE. UU.\", 500, 1000, 20)\n",
        "Nave5 = UnmannedSpaceship(\"Curiosity\", \"EE. UU.\", 600, 1200, 25)\n",
        "Nave6 = UnmannedSpaceship(\"Opportunity\", \"Colombia\", 400, 800, 15)\n",
        "\n",
        "Nave7 = MannedSpaceship(\"Apollo 11\", \"EE. UU.\", 3000, 400000, 3)\n",
        "Nave8 = MannedSpaceship(\"Soyuz\", \"Rusia\", 2500, 300000, 6)\n",
        "Nave9 = MannedSpaceship(\"Atlantis\", \"EE. UU.\", 3500, 500000, 8)\n",
        "\n",
        "#An inventory list is defined for each class of ship\n",
        "shuttleInventory = []\n",
        "unmannedInventory = []\n",
        "mannedInventory = []\n",
        "\n",
        "#Each of the ships initially created is added to its respective inventory\n",
        "for i in range(1, 4):\n",
        "  spaceshipName = \"Nave\" + str(i)\n",
        "  shuttleInventory.append(globals()[spaceshipName]) #To obtain the object, the globals() function is used, which returns a dictionary containing all global variables.\n",
        "                                                  #The object within the dictionary is then accessed using the bracket notation and added to your inventory list\n",
        "for i in range(4, 7):\n",
        "  spaceshipName = \"Nave\" + str(i)\n",
        "  unmannedInventory.append(globals()[spaceshipName])\n",
        "\n",
        "for i in range(7, 10):\n",
        "  spaceshipName = \"Nave\" + str(i)\n",
        "  mannedInventory.append(globals()[spaceshipName])"
      ],
      "metadata": {
        "id": "3NtFE4_6HUdi"
      },
      "execution_count": 88,
      "outputs": []
    },
    {
      "cell_type": "markdown",
      "source": [
        "VEHÍCULOS LANZADERA"
      ],
      "metadata": {
        "id": "oQeLKkCdcoGn"
      }
    },
    {
      "cell_type": "code",
      "execution_count": 89,
      "metadata": {
        "id": "AK5aGD7PhUSL"
      },
      "outputs": [],
      "source": [
        "#This function allows creating an object of the ShuttleSpaceship class and adding it to the Inventory.\n",
        "#The function receives as parameter an integer spaceshipNumber, which is used to generate a unique name for the object.\n",
        "def ShuttleCreation(spaceshipNumber):\n",
        "  clear_output() #To clean the console\n",
        "  print(\"Ingrese la información de la nave.\")\n",
        "\n",
        "  name = input(\"Nombre: \")\n",
        "  origin = input(\"País de procedencia: \")\n",
        "  thrust = input(\"Empuje en toneladas: \")\n",
        "  weight = input(\"Peso en toneladas: \")\n",
        "  transportCapacity = input(\"Capacidad de transporte en toneladas: \")\n",
        "  height = input(\"Altura en metros: \")\n",
        "  power = input(\"Caballos de potencia: \")\n",
        "\n",
        "  spaceshipName = \"Nave\" + str(spaceshipNumber)\n",
        "  globals()[spaceshipName] = ShuttleSpaceship(name, origin, thrust, weight, transportCapacity, height, power)\n",
        "  shuttleInventory.append(globals()[spaceshipName])\n",
        "  spaceshipNumber = spaceshipNumber + 1 \n",
        "  return spaceshipNumber"
      ]
    },
    {
      "cell_type": "markdown",
      "source": [
        "NAVES ESPACIALES NO TRIPULADAS"
      ],
      "metadata": {
        "id": "9iHVzrN9cwmc"
      }
    },
    {
      "cell_type": "code",
      "source": [
        "def UnmannedCreation(spaceshipNumber):\n",
        "  clear_output() #To clean the console\n",
        "  print(\"Ingrese la información de la nave.\")\n",
        "\n",
        "  name = input(\"Nombre: \")\n",
        "  origin = input(\"País de procedencia: \")\n",
        "  thrust = input(\"Empuje en toneladas: \")\n",
        "  power = input(\"Caballos de potencia: \")\n",
        "  speed = input(\"Velocidad en km/h: \")\n",
        "\n",
        "  spaceshipName = \"Nave\" + str(spaceshipNumber)\n",
        "  globals()[spaceshipName] = UnmannedSpaceship(name, origin, thrust, power, speed)\n",
        "  unmannedInventory.append(globals()[spaceshipName])\n",
        "  spaceshipNumber = spaceshipNumber + 1 \n",
        "  return spaceshipNumber"
      ],
      "metadata": {
        "id": "6voh5Trsc2I6"
      },
      "execution_count": 90,
      "outputs": []
    },
    {
      "cell_type": "markdown",
      "source": [
        "NAVES ESPACIALES TRIPULADAS"
      ],
      "metadata": {
        "id": "n74Xdw-zznDr"
      }
    },
    {
      "cell_type": "code",
      "source": [
        "def MannedCreation(spaceshipNumber):\n",
        "  clear_output() #To clean the console\n",
        "  print(\"Ingrese la información de la nave.\")\n",
        "\n",
        "  name = input(\"Nombre: \")\n",
        "  origin = input(\"País de procedencia: \")\n",
        "  weight = input(\"Peso en toneladas: \")\n",
        "  orbitDistance = input(\"Distancia de órbita en kilómetros: \")\n",
        "  peopleCapacity = input(\"Capacidad de personas a transportar: \")\n",
        "\n",
        "  spaceshipName = \"Nave\" + str(spaceshipNumber)\n",
        "  globals()[spaceshipName] = MannedSpaceship(name, origin, weight, orbitDistance, peopleCapacity)\n",
        "  mannedInventory.append(spaceshipName)\n",
        "  spaceshipNumber = spaceshipNumber + 1 \n",
        "  return spaceshipNumber"
      ],
      "metadata": {
        "id": "SkmfrMzlzmkN"
      },
      "execution_count": 91,
      "outputs": []
    },
    {
      "cell_type": "markdown",
      "source": [
        "#**Búsqueda de Naves**"
      ],
      "metadata": {
        "id": "TN0BMIla4n8Q"
      }
    },
    {
      "cell_type": "markdown",
      "source": [
        "VEHÍCULOS LANZADERA"
      ],
      "metadata": {
        "id": "O78t8wI94yM-"
      }
    },
    {
      "cell_type": "code",
      "source": [
        "#function that allows to search for objects of the ShuttleSpaceship class in its own inventory based on the properties of this same class. \n",
        "def ShuttleSearch(spaceships):\n",
        "\n",
        "  clear_output() #To clean the console\n",
        "  print(\"Ingrese los datos de la nave que conozca. Los demás déjelos en blanco.\")\n",
        "  print(\"\")\n",
        "  name = input(\"Nombre: \")\n",
        "  origin = input(\"País de procedencia: \")\n",
        "  thrust = input(\"Empuje en toneladas: \")\n",
        "  weight = input(\"Peso en toneladas: \")\n",
        "  transportCapacity = input(\"Capacidad de transporte en toneladas: \")\n",
        "  height = input(\"Altura en metros: \")\n",
        "  power = input(\"Caballos de potencia: \")\n",
        "  clear_output() #To clean the console\n",
        "  \n",
        "  filtered_spaceships = []  #An empty list called filtered_spaceships is created, which will be used to store the ships meeting the search criteria.\n",
        "  #iterates over each spaceship in the spaceship list, which is the same inventory of this class, and evaluates whether each of the spaceship properties \n",
        "  #meets the search criteria specified by the user.\n",
        "  for spaceship in spaceships:\n",
        "    if (name == \"\" or spaceship.name == name) and (origin == \"\" or spaceship.origin == origin) and (thrust == \"\" or str(spaceship.thrust) == thrust) and (weight == \"\" or str(spaceship.weight) == weight) and (transportCapacity == \"\" or str(spaceship.transportCapacity) == transportCapacity) and (height == \"\" or str(spaceship.height) == height) and (power == \"\" or str(spaceship.power) == power):\n",
        "      filtered_spaceships.append(spaceship)\n",
        "  \n",
        "  #is checked to see if the list contains at least one item. Next, each element in the filtered_spaceships list is iterated over and the values of its\n",
        "  #properties are printed on the screen\n",
        "  if len(filtered_spaceships) > 0:\n",
        "    print(\"Se encontraron: \", len(filtered_spaceships), \" coincidencias.\")\n",
        "    print(\"\")\n",
        "    for spaceship in filtered_spaceships:\n",
        "      print(spaceship.name, spaceship.origin, spaceship.weight, spaceship.thrust, spaceship. transportCapacity, spaceship.height, spaceship.power)\n",
        "  else:\n",
        "    print(\"No se encontraron coincidencias.\")\n",
        "\n",
        "  print(\"\")\n",
        "  input(\"Pulse ENTER PARA REGRESAR...\")"
      ],
      "metadata": {
        "id": "DwsjJa8b3y8k"
      },
      "execution_count": 92,
      "outputs": []
    },
    {
      "cell_type": "markdown",
      "source": [
        "NAVES ESPACIALES NO TRIPULADAS"
      ],
      "metadata": {
        "id": "2tvaWenf45x7"
      }
    },
    {
      "cell_type": "code",
      "source": [
        "def UnmannedSearch(spaceships):\n",
        "\n",
        "  clear_output() #To clean the console\n",
        "  print(\"Ingrese los datos de la nave que conozca. Los demás déjelos en blanco.\")\n",
        "  print(\"\")\n",
        "  name = input(\"Nombre: \")\n",
        "  origin = input(\"País de procedencia: \")\n",
        "  thrust = input(\"Empuje en toneladas: \")\n",
        "  power = input(\"Caballos de potencia: \")\n",
        "  speed = input(\"Velocidad en km/h: \")\n",
        "  clear_output() #To clean the console\n",
        "\n",
        "  filtered_spaceships = []\n",
        "  for spaceship in spaceships:\n",
        "    if (name == \"\" or spaceship.name == name) and (origin == \"\" or spaceship.origin == origin) and (thrust == \"\" or spaceship.thrust == thrust) and (power == \"\" or spaceship.power == power) and (speed == \"\" or spaceship.speed == speed):\n",
        "      filtered_spaceships.append(spaceship)\n",
        "\n",
        "  if len(filtered_spaceships) > 0:\n",
        "    print(\"Se encontraron: \", len(filtered_spaceships), \" coincidencias.\")\n",
        "    print(\"\")\n",
        "    for spaceship in filtered_spaceships:\n",
        "      print(spaceship.name, spaceship.origin, spaceship.thrust, spaceship.power, spaceship.speed)\n",
        "  else:\n",
        "    print(\"No se encontraron coincidencias.\")\n",
        "\n",
        "  print(\"\")\n",
        "  input(\"Pulse ENTER PARA REGRESAR...\")\n",
        "\n",
        "   "
      ],
      "metadata": {
        "id": "gU2rblIj4_6u"
      },
      "execution_count": 93,
      "outputs": []
    },
    {
      "cell_type": "markdown",
      "source": [
        "NAVES ESPACIALES TRIPULADAS"
      ],
      "metadata": {
        "id": "3A1RQEWJ5QRe"
      }
    },
    {
      "cell_type": "code",
      "source": [
        "def MannedSearch(spaceships):\n",
        "\n",
        "  clear_output() #To clean the console\n",
        "  print(\"Ingrese los datos de la nave que conozca. Los demás déjelos en blanco.\")\n",
        "  print(\"\")\n",
        "  name = input(\"Nombre: \")\n",
        "  origin = input(\"País de procedencia: \")\n",
        "  weight = input(\"Peso en toneladas: \")\n",
        "  orbitDistance = input(\"Distancia de órbita en kilómetros: \")\n",
        "  peopleCapacity = input(\"Capacidad de personas a transportar: \")\n",
        "  clear_output() #To clean the console\n",
        "\n",
        "  filtered_spaceships = []\n",
        "  for spaceship in spaceships:\n",
        "    if (name == \"\" or spaceship.name == name) and (origin == \"\" or spaceship.origin == origin) and (weight == \"\" or spaceship.weight == weight) and (orbitDistance == \"\" or spaceship.orbitDistance == orbitDistance) and (peopleCapacity == \"\" or spaceship.peopleCapacity == peopleCapacity):\n",
        "      filtered_spaceships.append(spaceship)\n",
        "\n",
        "  if len(filtered_spaceships) > 0:\n",
        "    print(\"Se encontraron: \", len(filtered_spaceships), \" coincidencias.\")\n",
        "    print(\"\")\n",
        "    for spaceship in filtered_spaceships:\n",
        "      print(spaceship.name, spaceship.origin, spaceship.weight, spaceship.orbitDistance, spaceship.peopleCapacity)\n",
        "  else:\n",
        "    print(\"No se encontraron coincidencias.\")\n",
        "\n",
        "  print(\"\")\n",
        "  input(\"Pulse ENTER PARA REGRESAR...\")"
      ],
      "metadata": {
        "id": "kPCmF5wK5YIp"
      },
      "execution_count": 94,
      "outputs": []
    },
    {
      "cell_type": "markdown",
      "source": [
        "#Mostrar el Inventario"
      ],
      "metadata": {
        "id": "gha1QR-aG3Wu"
      }
    },
    {
      "cell_type": "code",
      "source": [
        "#A function that displays on screen the information of all created spaceships\n",
        "def DisplayInventory(spaceshipNumber):\n",
        "    clear_output() #To clean the console\n",
        "    for i in range(1, spaceshipNumber):\n",
        "      spaceshipName = \"Nave\" + str(i)\n",
        "      print(vars(globals()[spaceshipName])) #For each iteration, a spaceshipName variable is created using the ship number, which starts at 10. \n",
        "    print(\"\")                               #Then, the vars function is used to obtain a dictionary with the properties and values of the ship and the dictionary is printed on the screen.\n",
        "    input(\"Pulse ENTER PARA REGRESAR...\")"
      ],
      "metadata": {
        "id": "SyURPA6aA76F"
      },
      "execution_count": 95,
      "outputs": []
    },
    {
      "cell_type": "markdown",
      "source": [
        "Error"
      ],
      "metadata": {
        "id": "KZCnHrqzLyV5"
      }
    },
    {
      "cell_type": "code",
      "source": [
        "def Error():\n",
        "  clear_output() #To clean the console\n",
        "  print(\"La opción no es valida...\")\n",
        "  input(\"Pulse ENTER para regresar...\")"
      ],
      "metadata": {
        "id": "vurAgr4cLxy7"
      },
      "execution_count": 96,
      "outputs": []
    },
    {
      "cell_type": "markdown",
      "metadata": {
        "id": "aSaJhdK8gXZ4"
      },
      "source": [
        "#Menú"
      ]
    },
    {
      "cell_type": "code",
      "execution_count": 97,
      "metadata": {
        "colab": {
          "base_uri": "https://localhost:8080/"
        },
        "id": "0y15anEbmJOY",
        "outputId": "9b1a84c0-ef32-4e47-e288-57be68dc5a0e"
      },
      "outputs": [
        {
          "output_type": "stream",
          "name": "stdout",
          "text": [
            "¡Hasta Pronto!\n"
          ]
        }
      ],
      "source": [
        "#This code is a loop which contains the execution of the menu\n",
        "exit = 0\n",
        "spaceshipNumber = 10\n",
        "\n",
        "while exit == 0:\n",
        "  clear_output() #To clean the console\n",
        "  print(\"¿Qué deseas hacer?\")\n",
        "  print(\"1. Crear una nueva nave\")\n",
        "  print(\"2. Buscar una nave\")\n",
        "  print(\"3. Mostrar el inventario\")\n",
        "  print(\"0. Salir\")\n",
        "  op = input()\n",
        "\n",
        "  if op == str(1):\n",
        "    clear_output() #To clean the console\n",
        "    print(\"1. Vehículos lanzadera\")\n",
        "    print(\"2. Naves no tripuladas\")\n",
        "    print(\"3. Naves espaciales tripuladas\")\n",
        "    type = int(input(\"Selecciona el tipo de nave que deseas crear: \"))\n",
        "\n",
        "    if type == 1:\n",
        "      spaceshipNumber = ShuttleCreation(spaceshipNumber)\n",
        "    elif type == 2:\n",
        "      spaceshipNumber = UnmannedCreation(spaceshipNumber)\n",
        "    elif type == 3:\n",
        "      spaceshipNumber = MannedCreation(spaceshipNumber)\n",
        "    else:\n",
        "      Error()\n",
        "\n",
        "  elif op == str(2):\n",
        "    clear_output() #To clean the console\n",
        "    print(\"1. Vehículos lanzadera\")\n",
        "    print(\"2. Naves no tripuladas\")\n",
        "    print(\"3. Naves espaciales tripuladas\")\n",
        "    type = int(input(\"Selecciona el tipo de nave que estas buscando: \"))\n",
        "\n",
        "    if type == 1:\n",
        "      ShuttleSearch(shuttleInventory)\n",
        "    elif type == 2:\n",
        "      UnmannedSearch(unmannedInventory)\n",
        "    elif type == 3:\n",
        "      MannedSearch(mannedInventory)\n",
        "    else:\n",
        "      Error()\n",
        "\n",
        "  elif op == str(3):\n",
        "    clear_output() #To clean the console\n",
        "    DisplayInventory(spaceshipNumber)\n",
        "\n",
        "  elif op == str(0):\n",
        "    clear_output() #To clean the console\n",
        "    print(\"¡Hasta Pronto!\")\n",
        "    exit = 1\n",
        "    pass\n",
        "  else:\n",
        "    Error()"
      ]
    }
  ],
  "metadata": {
    "colab": {
      "provenance": [],
      "collapsed_sections": [
        "aSaJhdK8gXZ4"
      ]
    },
    "kernelspec": {
      "display_name": "Python 3",
      "name": "python3"
    },
    "language_info": {
      "name": "python"
    }
  },
  "nbformat": 4,
  "nbformat_minor": 0
}